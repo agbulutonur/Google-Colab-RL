{
  "nbformat": 4,
  "nbformat_minor": 0,
  "metadata": {
    "colab": {
      "name": "sumo-test0.ipynb",
      "provenance": [],
      "collapsed_sections": [],
      "authorship_tag": "ABX9TyP9ssUqLVwMzdZ/9guoweas",
      "include_colab_link": true
    },
    "kernelspec": {
      "name": "python3",
      "display_name": "Python 3"
    },
    "accelerator": "GPU"
  },
  "cells": [
    {
      "cell_type": "markdown",
      "metadata": {
        "id": "view-in-github",
        "colab_type": "text"
      },
      "source": [
        "<a href=\"https://colab.research.google.com/github/agbulutonur/Google-Colab-RL/blob/master/sumo_test0.ipynb\" target=\"_parent\"><img src=\"https://colab.research.google.com/assets/colab-badge.svg\" alt=\"Open In Colab\"/></a>"
      ]
    },
    {
      "cell_type": "code",
      "metadata": {
        "id": "51zu59AHK7aA",
        "colab_type": "code",
        "outputId": "65b90d36-3a3b-4bbf-fbfa-466a41cf9402",
        "colab": {
          "base_uri": "https://localhost:8080/",
          "height": 1000
        }
      },
      "source": [
        "import torch\n",
        "torch.cuda.get_device_name(0)\n",
        "\n",
        "!wget -c https://repo.continuum.io/archive/Anaconda3-5.1.0-Linux-x86_64.sh\n",
        "!chmod +x Anaconda3-5.1.0-Linux-x86_64.sh\n",
        "!bash ./Anaconda3-5.1.0-Linux-x86_64.sh -b -f -p /usr/local\n",
        "!conda install -q -y --prefix /usr/local -c pytorch -c tensorcomp tensor_comprehensions\n",
        "\n",
        "import sys\n",
        "sys.path.append('/usr/local/lib/python3.6/site-packages/')"
      ],
      "execution_count": 0,
      "outputs": [
        {
          "output_type": "stream",
          "text": [
            "--2020-05-04 10:45:02--  https://repo.continuum.io/archive/Anaconda3-5.1.0-Linux-x86_64.sh\n",
            "Resolving repo.continuum.io (repo.continuum.io)... 104.18.200.79, 104.18.201.79, 2606:4700::6812:c94f, ...\n",
            "Connecting to repo.continuum.io (repo.continuum.io)|104.18.200.79|:443... connected.\n",
            "HTTP request sent, awaiting response... 301 Moved Permanently\n",
            "Location: https://repo.anaconda.com/archive/Anaconda3-5.1.0-Linux-x86_64.sh [following]\n",
            "--2020-05-04 10:45:02--  https://repo.anaconda.com/archive/Anaconda3-5.1.0-Linux-x86_64.sh\n",
            "Resolving repo.anaconda.com (repo.anaconda.com)... 104.16.130.3, 104.16.131.3, 2606:4700::6810:8303, ...\n",
            "Connecting to repo.anaconda.com (repo.anaconda.com)|104.16.130.3|:443... connected.\n",
            "HTTP request sent, awaiting response... 416 Requested Range Not Satisfiable\n",
            "\n",
            "    The file is already fully retrieved; nothing to do.\n",
            "\n",
            "PREFIX=/usr/local\n",
            "^C\n",
            "Solving environment: ...working... done\n",
            "\n",
            "\n",
            "==> WARNING: A newer version of conda exists. <==\n",
            "  current version: 4.4.10\n",
            "  latest version: 4.8.3\n",
            "\n",
            "Please update conda by running\n",
            "\n",
            "    $ conda update -n base conda\n",
            "\n",
            "\n",
            "\n",
            "## Package Plan ##\n",
            "\n",
            "  environment location: /usr/local\n",
            "\n",
            "  added / updated specs: \n",
            "    - tensor_comprehensions\n",
            "\n",
            "\n",
            "The following packages will be downloaded:\n",
            "\n",
            "    package                    |            build\n",
            "    ---------------------------|-----------------\n",
            "    libssh2-1.9.0              |       h1ba5d50_1         346 KB\n",
            "    python-3.6.10              |       h0371630_0        33.9 MB\n",
            "    openssl-1.1.1g             |       h7b6447c_0         3.8 MB\n",
            "    libstdcxx-ng-9.1.0         |       hdf63c60_0         4.0 MB\n",
            "    krb5-1.17.1                |       h173b8e3_0         1.5 MB\n",
            "    libcurl-7.69.1             |       h20c2e04_0         591 KB\n",
            "    ld_impl_linux-64-2.33.1    |       h53a641e_7         645 KB\n",
            "    ------------------------------------------------------------\n",
            "                                           Total:        44.8 MB\n",
            "\n",
            "The following NEW packages will be INSTALLED:\n",
            "\n",
            "    krb5:             1.17.1-h173b8e3_0\n",
            "    ld_impl_linux-64: 2.33.1-h53a641e_7\n",
            "\n",
            "The following packages will be UPDATED:\n",
            "\n",
            "    libcurl:          7.61.1-heec0ca6_0 --> 7.69.1-h20c2e04_0\n",
            "    libssh2:          1.8.0-h9cfc8f7_4  --> 1.9.0-h1ba5d50_1 \n",
            "    libstdcxx-ng:     7.2.0-h7a57d05_2  --> 9.1.0-hdf63c60_0 \n",
            "    openssl:          1.0.2u-h7b6447c_0 --> 1.1.1g-h7b6447c_0\n",
            "    python:           3.6.6-hc3d631a_0  --> 3.6.10-h0371630_0\n",
            "\n",
            "Preparing transaction: ...working... done\n",
            "Verifying transaction: ...working... done\n",
            "Executing transaction: ...working... done\n"
          ],
          "name": "stdout"
        }
      ]
    },
    {
      "cell_type": "code",
      "metadata": {
        "id": "JbHlSQ0GP3wx",
        "colab_type": "code",
        "outputId": "9e95aeae-78a8-4a1b-8017-b177eb446dc1",
        "colab": {
          "base_uri": "https://localhost:8080/",
          "height": 884
        }
      },
      "source": [
        "! sudo apt-get install cmake python g++ libxerces-c-dev libfox-1.6-dev libgdal-dev libproj-dev libgl2ps-dev swig\n"
      ],
      "execution_count": 0,
      "outputs": [
        {
          "output_type": "stream",
          "text": [
            "Reading package lists... Done\n",
            "Building dependency tree       \n",
            "Reading state information... Done\n",
            "python is already the newest version (2.7.15~rc1-1).\n",
            "cmake is already the newest version (3.10.2-1ubuntu2.18.04.1).\n",
            "g++ is already the newest version (4:7.4.0-1ubuntu2.3).\n",
            "g++ set to manually installed.\n",
            "The following additional packages will be installed:\n",
            "  default-libmysqlclient-dev libarmadillo-dev libarpack2-dev libblas-dev\n",
            "  libblas3 libcups2-dev libcupsfilters-dev libcupsfilters1 libcupsimage2\n",
            "  libcupsimage2-dev libdap-dev libdapserver7v5 libepsilon-dev libfox-1.6-0\n",
            "  libfreexl-dev libfyba-dev libgeos-dev libgeotiff-dev libgif-dev\n",
            "  libhdf4-alt-dev libjson-c-dev libkml-dev libkmlconvenience1\n",
            "  libkmlregionator1 libkmlxsd1 libminizip-dev libmysqlclient-dev libnetcdf-dev\n",
            "  libogdi3.2-dev libopenjp2-7-dev libpoppler-dev libpoppler-private-dev\n",
            "  libpq-dev libqhull-dev libqhull-r7 libspatialite-dev libsqlite3-0\n",
            "  libsqlite3-dev libsuperlu-dev liburiparser-dev libwebp-dev libxcursor-dev\n",
            "  swig3.0 unixodbc-dev\n",
            "Suggested packages:\n",
            "  libitpp-dev liblapack-doc libfox-1.6-doc libgdal-doc libgeotiff-epsg\n",
            "  netcdf-bin netcdf-doc postgresql-doc-10 proj-bin sqlite3-doc libsuperlu-doc\n",
            "  libxerces-c-doc swig-doc swig-examples swig3.0-examples swig3.0-doc\n",
            "The following NEW packages will be installed:\n",
            "  default-libmysqlclient-dev libarmadillo-dev libarpack2-dev libblas-dev\n",
            "  libblas3 libcups2-dev libcupsfilters-dev libcupsfilters1 libcupsimage2\n",
            "  libcupsimage2-dev libdap-dev libdapserver7v5 libepsilon-dev libfox-1.6-0\n",
            "  libfox-1.6-dev libfreexl-dev libfyba-dev libgdal-dev libgeos-dev\n",
            "  libgeotiff-dev libgif-dev libgl2ps-dev libhdf4-alt-dev libjson-c-dev\n",
            "  libkml-dev libkmlconvenience1 libkmlregionator1 libkmlxsd1 libminizip-dev\n",
            "  libmysqlclient-dev libnetcdf-dev libogdi3.2-dev libopenjp2-7-dev\n",
            "  libpoppler-dev libpoppler-private-dev libpq-dev libproj-dev libqhull-dev\n",
            "  libqhull-r7 libspatialite-dev libsqlite3-dev libsuperlu-dev liburiparser-dev\n",
            "  libwebp-dev libxcursor-dev libxerces-c-dev swig swig3.0 unixodbc-dev\n",
            "The following packages will be upgraded:\n",
            "  libsqlite3-0\n",
            "1 upgraded, 49 newly installed, 0 to remove and 24 not upgraded.\n",
            "Need to get 292 kB/20.6 MB of archives.\n",
            "After this operation, 131 MB of additional disk space will be used.\n",
            "Ign:1 http://archive.ubuntu.com/ubuntu bionic-updates/main amd64 libcupsimage2 amd64 2.2.7-1ubuntu2.7\n",
            "Ign:2 http://archive.ubuntu.com/ubuntu bionic-updates/main amd64 libcupsimage2-dev amd64 2.2.7-1ubuntu2.7\n",
            "Ign:3 http://archive.ubuntu.com/ubuntu bionic-updates/main amd64 libcups2-dev amd64 2.2.7-1ubuntu2.7\n",
            "Err:1 http://security.ubuntu.com/ubuntu bionic-updates/main amd64 libcupsimage2 amd64 2.2.7-1ubuntu2.7\n",
            "  404  Not Found [IP: 91.189.88.152 80]\n",
            "Err:2 http://security.ubuntu.com/ubuntu bionic-updates/main amd64 libcupsimage2-dev amd64 2.2.7-1ubuntu2.7\n",
            "  404  Not Found [IP: 91.189.88.152 80]\n",
            "Err:3 http://security.ubuntu.com/ubuntu bionic-updates/main amd64 libcups2-dev amd64 2.2.7-1ubuntu2.7\n",
            "  404  Not Found [IP: 91.189.88.152 80]\n",
            "E: Failed to fetch http://security.ubuntu.com/ubuntu/pool/main/c/cups/libcupsimage2_2.2.7-1ubuntu2.7_amd64.deb  404  Not Found [IP: 91.189.88.152 80]\n",
            "E: Failed to fetch http://security.ubuntu.com/ubuntu/pool/main/c/cups/libcupsimage2-dev_2.2.7-1ubuntu2.7_amd64.deb  404  Not Found [IP: 91.189.88.152 80]\n",
            "E: Failed to fetch http://security.ubuntu.com/ubuntu/pool/main/c/cups/libcups2-dev_2.2.7-1ubuntu2.7_amd64.deb  404  Not Found [IP: 91.189.88.152 80]\n",
            "E: Unable to fetch some archives, maybe run apt-get update or try with --fix-missing?\n"
          ],
          "name": "stdout"
        }
      ]
    },
    {
      "cell_type": "code",
      "metadata": {
        "id": "aAX7bRL3QF0_",
        "colab_type": "code",
        "outputId": "f62e3874-a1f8-4f53-d373-69956e31a120",
        "colab": {
          "base_uri": "https://localhost:8080/",
          "height": 34
        }
      },
      "source": [
        "! git clone --recursive https://github.com/eclipse/sumo"
      ],
      "execution_count": 0,
      "outputs": [
        {
          "output_type": "stream",
          "text": [
            "fatal: destination path 'sumo' already exists and is not an empty directory.\n"
          ],
          "name": "stdout"
        }
      ]
    },
    {
      "cell_type": "code",
      "metadata": {
        "id": "v9dFaopwQ9u1",
        "colab_type": "code",
        "colab": {}
      },
      "source": [
        "! export SUMO_HOME=\"$PWD/sumo\"\n"
      ],
      "execution_count": 0,
      "outputs": []
    },
    {
      "cell_type": "code",
      "metadata": {
        "id": "i0hert2DRBLs",
        "colab_type": "code",
        "outputId": "72eec879-0f9f-4a50-f001-286bf338795e",
        "colab": {
          "base_uri": "https://localhost:8080/",
          "height": 34
        }
      },
      "source": [
        "! cd sumo/build/cmake-build\n",
        "! ls"
      ],
      "execution_count": 0,
      "outputs": [
        {
          "output_type": "stream",
          "text": [
            "Anaconda3-5.1.0-Linux-x86_64.sh  flow  sample_data  sumo\n"
          ],
          "name": "stdout"
        }
      ]
    },
    {
      "cell_type": "code",
      "metadata": {
        "id": "YyjEDVw2RY8w",
        "colab_type": "code",
        "outputId": "fedbd5bf-5d87-4889-88c9-2ff475058b8d",
        "colab": {
          "base_uri": "https://localhost:8080/",
          "height": 34
        }
      },
      "source": [
        "! cd sumo\n",
        "! ls"
      ],
      "execution_count": 0,
      "outputs": [
        {
          "output_type": "stream",
          "text": [
            "Anaconda3-5.1.0-Linux-x86_64.sh  flow  sample_data  sumo\n"
          ],
          "name": "stdout"
        }
      ]
    },
    {
      "cell_type": "code",
      "metadata": {
        "id": "1jMU5s_2Ri6w",
        "colab_type": "code",
        "outputId": "ef376997-2b33-4dda-8e7b-4f15ed2a8673",
        "colab": {
          "base_uri": "https://localhost:8080/",
          "height": 85
        }
      },
      "source": [
        "! ls sumo/"
      ],
      "execution_count": 0,
      "outputs": [
        {
          "output_type": "stream",
          "text": [
            "AUTHORS    CMakeLists.txt\tdata\t   README.md\t  tools\n",
            "bin\t   CMakeSettings.json\tdocs\t   src\t\t  unittest\n",
            "build\t   cmake-variants.yaml\tLICENSE    sumo.doxyconf\n",
            "ChangeLog  CONTRIBUTING.md\tNOTICE.md  tests\n"
          ],
          "name": "stdout"
        }
      ]
    },
    {
      "cell_type": "code",
      "metadata": {
        "id": "iAhLjNpRRmJr",
        "colab_type": "code",
        "outputId": "e418d3a5-d234-48c3-b087-ffe49ba4f7de",
        "colab": {
          "base_uri": "https://localhost:8080/",
          "height": 34
        }
      },
      "source": [
        "\n",
        "! git clone https://github.com/flow-project/flow.git\n",
        "! cd flow"
      ],
      "execution_count": 0,
      "outputs": [
        {
          "output_type": "stream",
          "text": [
            "fatal: destination path 'flow' already exists and is not an empty directory.\n"
          ],
          "name": "stdout"
        }
      ]
    },
    {
      "cell_type": "code",
      "metadata": {
        "id": "T5FFDcMASZfZ",
        "colab_type": "code",
        "outputId": "c6bc2a41-6f00-42f4-e93c-1074203c8d9a",
        "colab": {
          "base_uri": "https://localhost:8080/",
          "height": 130
        }
      },
      "source": [
        "! git clone https://github.com/flow-project/flow.git\n",
        "! cd flow\n"
      ],
      "execution_count": 0,
      "outputs": [
        {
          "output_type": "error",
          "ename": "SyntaxError",
          "evalue": "ignored",
          "traceback": [
            "\u001b[0;36m  File \u001b[0;32m\"<ipython-input-28-87b0cc389a57>\"\u001b[0;36m, line \u001b[0;32m3\u001b[0m\n\u001b[0;31m    conda env create -f environment.yml\u001b[0m\n\u001b[0m            ^\u001b[0m\n\u001b[0;31mSyntaxError\u001b[0m\u001b[0;31m:\u001b[0m invalid syntax\n"
          ]
        }
      ]
    },
    {
      "cell_type": "code",
      "metadata": {
        "id": "Yr6CG9tRTl__",
        "colab_type": "code",
        "outputId": "4046b577-a915-4e6a-ebfa-7c595b474872",
        "colab": {
          "base_uri": "https://localhost:8080/",
          "height": 1000
        }
      },
      "source": [
        "!wget -c https://repo.continuum.io/archive/Anaconda3-5.1.0-Linux-x86_64.sh\n",
        "!chmod +x Anaconda3-5.1.0-Linux-x86_64.sh\n",
        "!bash ./Anaconda3-5.1.0-Linux-x86_64.sh -b -f -p /usr/local\n",
        "!conda install -q -y --prefix /usr/local -c pytorch -c tensorcomp tensor_comprehensions\n",
        "! conda env create -f environment.yml\n",
        "! conda activate flow\n",
        "! python setup.py develop\n"
      ],
      "execution_count": 0,
      "outputs": [
        {
          "output_type": "stream",
          "text": [
            "--2020-05-04 12:45:52--  https://repo.continuum.io/archive/Anaconda3-5.1.0-Linux-x86_64.sh\n",
            "Resolving repo.continuum.io (repo.continuum.io)... 104.18.200.79, 104.18.201.79, 2606:4700::6812:c84f, ...\n",
            "Connecting to repo.continuum.io (repo.continuum.io)|104.18.200.79|:443... connected.\n",
            "HTTP request sent, awaiting response... 301 Moved Permanently\n",
            "Location: https://repo.anaconda.com/archive/Anaconda3-5.1.0-Linux-x86_64.sh [following]\n",
            "--2020-05-04 12:45:52--  https://repo.anaconda.com/archive/Anaconda3-5.1.0-Linux-x86_64.sh\n",
            "Resolving repo.anaconda.com (repo.anaconda.com)... 104.16.130.3, 104.16.131.3, 2606:4700::6810:8303, ...\n",
            "Connecting to repo.anaconda.com (repo.anaconda.com)|104.16.130.3|:443... connected.\n",
            "HTTP request sent, awaiting response... 200 OK\n",
            "Length: 577996269 (551M) [application/x-sh]\n",
            "Saving to: ‘Anaconda3-5.1.0-Linux-x86_64.sh’\n",
            "\n",
            "Anaconda3-5.1.0-Lin 100%[===================>] 551.22M  81.6MB/s    in 7.0s    \n",
            "\n",
            "2020-05-04 12:45:59 (79.2 MB/s) - ‘Anaconda3-5.1.0-Linux-x86_64.sh’ saved [577996269/577996269]\n",
            "\n",
            "PREFIX=/usr/local\n",
            "installing: python-3.6.4-hc3d631a_1 ...\n",
            "Python 3.6.4 :: Anaconda, Inc.\n",
            "installing: ca-certificates-2017.08.26-h1d4fec5_0 ...\n",
            "installing: conda-env-2.6.0-h36134e3_1 ...\n",
            "installing: intel-openmp-2018.0.0-hc7b2577_8 ...\n",
            "installing: libgcc-ng-7.2.0-h7cc24e2_2 ...\n",
            "installing: libgfortran-ng-7.2.0-h9f7466a_2 ...\n",
            "installing: libstdcxx-ng-7.2.0-h7a57d05_2 ...\n",
            "installing: bzip2-1.0.6-h9a117a8_4 ...\n",
            "installing: expat-2.2.5-he0dffb1_0 ...\n",
            "installing: gmp-6.1.2-h6c8ec71_1 ...\n",
            "installing: graphite2-1.3.10-hf63cedd_1 ...\n",
            "installing: icu-58.2-h9c2bf20_1 ...\n",
            "installing: jbig-2.1-hdba287a_0 ...\n",
            "installing: jpeg-9b-h024ee3a_2 ...\n",
            "installing: libffi-3.2.1-hd88cf55_4 ...\n",
            "installing: libsodium-1.0.15-hf101ebd_0 ...\n",
            "installing: libtool-2.4.6-h544aabb_3 ...\n",
            "installing: libxcb-1.12-hcd93eb1_4 ...\n",
            "installing: lzo-2.10-h49e0be7_2 ...\n",
            "installing: mkl-2018.0.1-h19d6760_4 ...\n",
            "installing: ncurses-6.0-h9df7e31_2 ...\n",
            "installing: openssl-1.0.2n-hb7f436b_0 ...\n",
            "installing: patchelf-0.9-hf79760b_2 ...\n",
            "installing: pcre-8.41-hc27e229_1 ...\n",
            "installing: pixman-0.34.0-hceecf20_3 ...\n",
            "installing: tk-8.6.7-hc745277_3 ...\n",
            "installing: unixodbc-2.3.4-hc36303a_1 ...\n",
            "installing: xz-5.2.3-h55aa19d_2 ...\n",
            "installing: yaml-0.1.7-had09818_2 ...\n",
            "installing: zlib-1.2.11-ha838bed_2 ...\n",
            "installing: glib-2.53.6-h5d9569c_2 ...\n",
            "installing: hdf5-1.10.1-h9caa474_1 ...\n",
            "installing: libedit-3.1-heed3624_0 ...\n",
            "installing: libpng-1.6.34-hb9fc6fc_0 ...\n",
            "installing: libssh2-1.8.0-h9cfc8f7_4 ...\n",
            "installing: libtiff-4.0.9-h28f6b97_0 ...\n",
            "installing: libxml2-2.9.7-h26e45fe_0 ...\n",
            "installing: mpfr-3.1.5-h11a74b3_2 ...\n",
            "installing: pandoc-1.19.2.1-hea2e7c5_1 ...\n",
            "installing: readline-7.0-ha6073c6_4 ...\n",
            "installing: zeromq-4.2.2-hbedb6e5_2 ...\n",
            "installing: dbus-1.12.2-hc3f9b76_1 ...\n",
            "installing: freetype-2.8-hab7d2ae_1 ...\n",
            "installing: gstreamer-1.12.4-hb53b477_0 ...\n",
            "installing: libcurl-7.58.0-h1ad7b7a_0 ...\n",
            "installing: libxslt-1.1.32-h1312cb7_0 ...\n",
            "installing: mpc-1.0.3-hec55b23_5 ...\n",
            "installing: sqlite-3.22.0-h1bed415_0 ...\n",
            "installing: curl-7.58.0-h84994c4_0 ...\n",
            "installing: fontconfig-2.12.4-h88586e7_1 ...\n",
            "installing: gst-plugins-base-1.12.4-h33fb286_0 ...\n",
            "installing: alabaster-0.7.10-py36h306e16b_0 ...\n",
            "installing: asn1crypto-0.24.0-py36_0 ...\n",
            "installing: attrs-17.4.0-py36_0 ...\n",
            "installing: backports-1.0-py36hfa02d7e_1 ...\n",
            "installing: beautifulsoup4-4.6.0-py36h49b8c8c_1 ...\n",
            "installing: bitarray-0.8.1-py36h14c3975_1 ...\n",
            "installing: boto-2.48.0-py36h6e4cd66_1 ...\n",
            "installing: cairo-1.14.12-h77bcde2_0 ...\n",
            "installing: certifi-2018.1.18-py36_0 ...\n",
            "installing: chardet-3.0.4-py36h0f667ec_1 ...\n",
            "installing: click-6.7-py36h5253387_0 ...\n",
            "installing: cloudpickle-0.5.2-py36_1 ...\n",
            "installing: colorama-0.3.9-py36h489cec4_0 ...\n",
            "installing: contextlib2-0.5.5-py36h6c84a62_0 ...\n",
            "installing: dask-core-0.16.1-py36_0 ...\n",
            "installing: decorator-4.2.1-py36_0 ...\n",
            "installing: docutils-0.14-py36hb0f60f5_0 ...\n",
            "installing: entrypoints-0.2.3-py36h1aec115_2 ...\n",
            "installing: et_xmlfile-1.0.1-py36hd6bccc3_0 ...\n",
            "installing: fastcache-1.0.2-py36h14c3975_2 ...\n",
            "installing: filelock-2.0.13-py36h646ffb5_0 ...\n",
            "installing: glob2-0.6-py36he249c77_0 ...\n",
            "installing: gmpy2-2.0.8-py36hc8893dd_2 ...\n",
            "installing: greenlet-0.4.12-py36h2d503a6_0 ...\n",
            "installing: heapdict-1.0.0-py36_2 ...\n",
            "installing: idna-2.6-py36h82fb2a8_1 ...\n",
            "installing: imagesize-0.7.1-py36h52d8127_0 ...\n",
            "installing: ipython_genutils-0.2.0-py36hb52b0d5_0 ...\n",
            "installing: itsdangerous-0.24-py36h93cc618_1 ...\n",
            "installing: jdcal-1.3-py36h4c697fb_0 ...\n",
            "installing: lazy-object-proxy-1.3.1-py36h10fcdad_0 ...\n",
            "installing: llvmlite-0.21.0-py36ha241eea_0 ...\n",
            "installing: locket-0.2.0-py36h787c0ad_1 ...\n",
            "installing: lxml-4.1.1-py36hf71bdeb_1 ...\n",
            "installing: markupsafe-1.0-py36hd9260cd_1 ...\n",
            "installing: mccabe-0.6.1-py36h5ad9710_1 ...\n",
            "installing: mistune-0.8.3-py36_0 ...\n",
            "installing: mkl-service-1.1.2-py36h17a0993_4 ...\n",
            "installing: mpmath-1.0.0-py36hfeacd6b_2 ...\n",
            "installing: msgpack-python-0.5.1-py36h6bb024c_0 ...\n",
            "installing: multipledispatch-0.4.9-py36h41da3fb_0 ...\n",
            "installing: numpy-1.14.0-py36h3dfced4_1 ...\n",
            "installing: olefile-0.45.1-py36_0 ...\n",
            "installing: pandocfilters-1.4.2-py36ha6701b7_1 ...\n",
            "installing: parso-0.1.1-py36h35f843b_0 ...\n",
            "installing: path.py-10.5-py36h55ceabb_0 ...\n",
            "installing: pep8-1.7.1-py36_0 ...\n",
            "installing: pickleshare-0.7.4-py36h63277f8_0 ...\n",
            "installing: pkginfo-1.4.1-py36h215d178_1 ...\n",
            "installing: pluggy-0.6.0-py36hb689045_0 ...\n",
            "installing: ply-3.10-py36hed35086_0 ...\n",
            "installing: psutil-5.4.3-py36h14c3975_0 ...\n",
            "installing: ptyprocess-0.5.2-py36h69acd42_0 ...\n",
            "installing: py-1.5.2-py36h29bf505_0 ...\n",
            "installing: pycodestyle-2.3.1-py36hf609f19_0 ...\n",
            "installing: pycosat-0.6.3-py36h0a5515d_0 ...\n",
            "installing: pycparser-2.18-py36hf9f622e_1 ...\n",
            "installing: pycrypto-2.6.1-py36h14c3975_7 ...\n",
            "installing: pycurl-7.43.0.1-py36hb7f436b_0 ...\n",
            "installing: pyodbc-4.0.22-py36hf484d3e_0 ...\n",
            "installing: pyparsing-2.2.0-py36hee85983_1 ...\n",
            "installing: pysocks-1.6.7-py36hd97a5b1_1 ...\n",
            "installing: pytz-2017.3-py36h63b9c63_0 ...\n",
            "installing: pyyaml-3.12-py36hafb9ca4_1 ...\n",
            "installing: pyzmq-16.0.3-py36he2533c7_0 ...\n",
            "installing: qt-5.6.2-h974d657_12 ...\n",
            "installing: qtpy-1.3.1-py36h3691cc8_0 ...\n",
            "installing: rope-0.10.7-py36h147e2ec_0 ...\n",
            "installing: ruamel_yaml-0.15.35-py36h14c3975_1 ...\n",
            "installing: send2trash-1.4.2-py36_0 ...\n",
            "installing: simplegeneric-0.8.1-py36_2 ...\n",
            "installing: sip-4.18.1-py36h51ed4ed_2 ...\n",
            "installing: six-1.11.0-py36h372c433_1 ...\n",
            "installing: snowballstemmer-1.2.1-py36h6febd40_0 ...\n",
            "installing: sortedcontainers-1.5.9-py36_0 ...\n",
            "installing: sphinxcontrib-1.0-py36h6d0f590_1 ...\n",
            "installing: sqlalchemy-1.2.1-py36h14c3975_0 ...\n",
            "installing: tblib-1.3.2-py36h34cf8b6_0 ...\n",
            "installing: testpath-0.3.1-py36h8cadb63_0 ...\n",
            "installing: toolz-0.9.0-py36_0 ...\n",
            "installing: tornado-4.5.3-py36_0 ...\n",
            "installing: typing-3.6.2-py36h7da032a_0 ...\n",
            "installing: unicodecsv-0.14.1-py36ha668878_0 ...\n",
            "installing: wcwidth-0.1.7-py36hdf4376a_0 ...\n",
            "installing: webencodings-0.5.1-py36h800622e_1 ...\n",
            "installing: werkzeug-0.14.1-py36_0 ...\n",
            "installing: wrapt-1.10.11-py36h28b7045_0 ...\n",
            "installing: xlrd-1.1.0-py36h1db9f0c_1 ...\n",
            "installing: xlsxwriter-1.0.2-py36h3de1aca_0 ...\n",
            "installing: xlwt-1.3.0-py36h7b00a1f_0 ...\n",
            "installing: babel-2.5.3-py36_0 ...\n",
            "installing: backports.shutil_get_terminal_size-1.0.0-py36hfea85ff_2 ...\n",
            "installing: bottleneck-1.2.1-py36haac1ea0_0 ...\n",
            "installing: cffi-1.11.4-py36h9745a5d_0 ...\n",
            "installing: conda-verify-2.0.0-py36h98955d8_0 ...\n",
            "installing: cycler-0.10.0-py36h93f1223_0 ...\n",
            "installing: cytoolz-0.9.0-py36h14c3975_0 ...\n",
            "installing: h5py-2.7.1-py36h3585f63_0 ...\n",
            "installing: harfbuzz-1.7.4-hc5b324e_0 ...\n",
            "installing: html5lib-1.0.1-py36h2f9c1c0_0 ...\n",
            "installing: jedi-0.11.1-py36_0 ...\n",
            "installing: networkx-2.1-py36_0 ...\n",
            "installing: nltk-3.2.5-py36h7532b22_0 ...\n",
            "installing: numba-0.36.2-np114py36hc6662d5_0 ...\n",
            "installing: numexpr-2.6.4-py36hc4a3f9a_0 ...\n",
            "installing: openpyxl-2.4.10-py36_0 ...\n",
            "installing: packaging-16.8-py36ha668100_1 ...\n",
            "installing: partd-0.3.8-py36h36fd896_0 ...\n",
            "installing: pathlib2-2.3.0-py36h49efa8e_0 ...\n",
            "installing: pexpect-4.3.1-py36_0 ...\n",
            "installing: pillow-5.0.0-py36h3deb7b8_0 ...\n",
            "installing: pyqt-5.6.0-py36h0386399_5 ...\n",
            "installing: python-dateutil-2.6.1-py36h88d3b88_1 ...\n",
            "installing: pywavelets-0.5.2-py36he602eb0_0 ...\n",
            "installing: qtawesome-0.4.4-py36h609ed8c_0 ...\n",
            "installing: scipy-1.0.0-py36hbf646e7_0 ...\n",
            "installing: setuptools-38.4.0-py36_0 ...\n",
            "installing: singledispatch-3.4.0.3-py36h7a266c3_0 ...\n",
            "installing: sortedcollections-0.5.3-py36h3c761f9_0 ...\n",
            "installing: sphinxcontrib-websupport-1.0.1-py36hb5cb234_1 ...\n",
            "installing: sympy-1.1.1-py36hc6d1c1c_0 ...\n",
            "installing: terminado-0.8.1-py36_1 ...\n",
            "installing: traitlets-4.3.2-py36h674d592_0 ...\n",
            "installing: zict-0.1.3-py36h3a3bf81_0 ...\n",
            "installing: astroid-1.6.1-py36_0 ...\n",
            "installing: bleach-2.1.2-py36_0 ...\n",
            "installing: clyent-1.2.2-py36h7e57e65_1 ...\n",
            "installing: cryptography-2.1.4-py36hd09be54_0 ...\n",
            "installing: cython-0.27.3-py36h1860423_0 ...\n",
            "installing: datashape-0.5.4-py36h3ad6b5c_0 ...\n",
            "installing: distributed-1.20.2-py36_0 ...\n",
            "installing: get_terminal_size-1.0.0-haa9412d_0 ...\n",
            "installing: gevent-1.2.2-py36h2fe25dc_0 ...\n",
            "installing: imageio-2.2.0-py36he555465_0 ...\n",
            "installing: isort-4.2.15-py36had401c0_0 ...\n",
            "installing: jinja2-2.10-py36ha16c418_0 ...\n",
            "installing: jsonschema-2.6.0-py36h006f8b5_0 ...\n",
            "installing: jupyter_core-4.4.0-py36h7c827e3_0 ...\n",
            "installing: matplotlib-2.1.2-py36h0e671d2_0 ...\n",
            "installing: navigator-updater-0.1.0-py36h14770f7_0 ...\n",
            "installing: nose-1.3.7-py36hcdf7029_2 ...\n",
            "installing: pandas-0.22.0-py36hf484d3e_0 ...\n",
            "installing: pango-1.41.0-hd475d92_0 ...\n",
            "installing: patsy-0.5.0-py36_0 ...\n",
            "installing: pyflakes-1.6.0-py36h7bd6a15_0 ...\n",
            "installing: pygments-2.2.0-py36h0d3125c_0 ...\n",
            "installing: pytables-3.4.2-py36h3b5282a_2 ...\n",
            "installing: pytest-3.3.2-py36_0 ...\n",
            "installing: scikit-learn-0.19.1-py36h7aa7ec6_0 ...\n",
            "installing: wheel-0.30.0-py36hfd4bba0_1 ...\n",
            "installing: astropy-2.0.3-py36h14c3975_0 ...\n",
            "installing: bkcharts-0.2-py36h735825a_0 ...\n",
            "installing: bokeh-0.12.13-py36h2f9c1c0_0 ...\n",
            "installing: flask-0.12.2-py36hb24657c_0 ...\n",
            "installing: jupyter_client-5.2.2-py36_0 ...\n",
            "installing: nbformat-4.4.0-py36h31c9010_0 ...\n",
            "installing: pip-9.0.1-py36h6c6f9ce_4 ...\n",
            "installing: prompt_toolkit-1.0.15-py36h17d85b1_0 ...\n",
            "installing: pylint-1.8.2-py36_0 ...\n",
            "installing: pyopenssl-17.5.0-py36h20ba746_0 ...\n",
            "installing: statsmodels-0.8.0-py36h8533d0b_0 ...\n",
            "installing: dask-0.16.1-py36_0 ...\n",
            "installing: flask-cors-3.0.3-py36h2d857d3_0 ...\n",
            "installing: ipython-6.2.1-py36h88c514a_1 ...\n",
            "installing: nbconvert-5.3.1-py36hb41ffb7_0 ...\n",
            "installing: seaborn-0.8.1-py36hfad7ec4_0 ...\n",
            "installing: urllib3-1.22-py36hbe7ace6_0 ...\n",
            "installing: ipykernel-4.8.0-py36_0 ...\n",
            "installing: odo-0.5.1-py36h90ed295_0 ...\n",
            "installing: requests-2.18.4-py36he2e5f8d_1 ...\n",
            "installing: scikit-image-0.13.1-py36h14c3975_1 ...\n",
            "installing: anaconda-client-1.6.9-py36_0 ...\n",
            "installing: blaze-0.11.3-py36h4e06776_0 ...\n",
            "installing: jupyter_console-5.2.0-py36he59e554_1 ...\n",
            "installing: notebook-5.4.0-py36_0 ...\n",
            "installing: qtconsole-4.3.1-py36h8f73b5b_0 ...\n",
            "installing: sphinx-1.6.6-py36_0 ...\n",
            "installing: anaconda-project-0.8.2-py36h44fb852_0 ...\n",
            "installing: jupyterlab_launcher-0.10.2-py36_0 ...\n",
            "installing: numpydoc-0.7.0-py36h18f165f_0 ...\n",
            "installing: widgetsnbextension-3.1.0-py36_0 ...\n",
            "installing: anaconda-navigator-1.7.0-py36_0 ...\n",
            "installing: ipywidgets-7.1.1-py36_0 ...\n",
            "installing: jupyterlab-0.31.5-py36_0 ...\n",
            "installing: spyder-3.2.6-py36_0 ...\n",
            "installing: _ipyw_jlab_nb_ext_conf-0.1.0-py36he11e457_0 ...\n",
            "installing: jupyter-1.0.0-py36_4 ...\n",
            "installing: anaconda-5.1.0-py36_2 ...\n",
            "installing: conda-4.4.10-py36_0 ...\n",
            "installing: conda-build-3.4.1-py36_0 ...\n",
            "installation finished.\n",
            "WARNING:\n",
            "    You currently have a PYTHONPATH environment variable set. This may cause\n",
            "    unexpected behavior when running the Python interpreter in Anaconda3.\n",
            "    For best results, please verify that your PYTHONPATH only points to\n",
            "    directories of packages that are compatible with the Python interpreter\n",
            "    in Anaconda3: /usr/local\n",
            "Solving environment: ...working... done\n",
            "\n",
            "\n",
            "==> WARNING: A newer version of conda exists. <==\n",
            "  current version: 4.4.10\n",
            "  latest version: 4.8.3\n",
            "\n",
            "Please update conda by running\n",
            "\n",
            "    $ conda update -n base conda\n",
            "\n",
            "\n",
            "\n",
            "## Package Plan ##\n",
            "\n",
            "  environment location: /usr/local\n",
            "\n",
            "  added / updated specs: \n",
            "    - tensor_comprehensions\n",
            "\n",
            "\n",
            "The following packages will be downloaded:\n",
            "\n",
            "    package                    |            build\n",
            "    ---------------------------|-----------------\n",
            "    cmake-3.11.1               |       h307fef2_1        12.5 MB\n",
            "    cudatoolkit-8.0            |                3       322.4 MB\n",
            "    bzip2-1.0.8                |       h7b6447c_0         105 KB\n",
            "    readline-7.0               |       h7b6447c_5         392 KB\n",
            "    sqlite-3.31.1              |       h7b6447c_0         2.0 MB\n",
            "    halide-0.1.0               |       h9df8326_2        37.9 MB  tensorcomp\n",
            "    zlib-1.2.11                |       h7b6447c_3         120 KB\n",
            "    glog-0.3.9                 |       h3408eea_2         346 KB  tensorcomp\n",
            "    gflags-2.4.4               |       h4126541_2         113 KB  tensorcomp\n",
            "    _libgcc_mutex-0.1          |             main           3 KB\n",
            "    six-1.14.0                 |           py36_0          27 KB\n",
            "    ncurses-6.1                |       hf484d3e_0         943 KB\n",
            "    llvm-tapir50-0.1.0         |       h186cc49_2       331.5 MB  tensorcomp\n",
            "    unzip-6.0                  |       h611a1e1_0          91 KB\n",
            "    protobuf-3.4.1             |       h21cfbc1_2         5.6 MB  tensorcomp\n",
            "    isl-tc-0.1.0               |       h9c8d533_2         1.3 MB  tensorcomp\n",
            "    pyyaml-5.3.1               |   py36h7b6447c_0         191 KB\n",
            "    libedit-3.1.20181209       |       hc058e9b_0         188 KB\n",
            "    python-3.6.6               |       hc3d631a_0        29.4 MB\n",
            "    tensor_comprehensions-0.1.1|       hc1584b5_3         2.5 MB  tensorcomp\n",
            "    pip-20.0.2                 |           py36_1         1.9 MB\n",
            "    pycparser-2.20             |             py_0          93 KB\n",
            "    xz-5.2.5                   |       h7b6447c_0         438 KB\n",
            "    pytorch-0.3.1              |py36_cuda8.0.61_cudnn7.1.2_3       327.1 MB  pytorch\n",
            "    libgcc-ng-9.1.0            |       hdf63c60_0         8.1 MB\n",
            "    ca-certificates-2020.1.1   |                0         132 KB\n",
            "    blas-1.0                   |              mkl           6 KB\n",
            "    certifi-2020.4.5.1         |           py36_0         159 KB\n",
            "    cffi-1.14.0                |   py36h2e261b9_0         225 KB\n",
            "    setuptools-46.1.3          |           py36_0         663 KB\n",
            "    numpy-1.14.2               |   py36hdbf6ddf_0         4.0 MB\n",
            "    openssl-1.0.2u             |       h7b6447c_0         3.1 MB\n",
            "    wheel-0.34.2               |           py36_0          49 KB\n",
            "    libcurl-7.61.1             |       heec0ca6_0         496 KB\n",
            "    tk-8.6.8                   |       hbc83047_0         3.1 MB\n",
            "    ------------------------------------------------------------\n",
            "                                           Total:        1.07 GB\n",
            "\n",
            "The following NEW packages will be INSTALLED:\n",
            "\n",
            "    _libgcc_mutex:         0.1-main                                     \n",
            "    blas:                  1.0-mkl                                      \n",
            "    cmake:                 3.11.1-h307fef2_1                            \n",
            "    cudatoolkit:           8.0-3                                        \n",
            "    gflags:                2.4.4-h4126541_2                   tensorcomp\n",
            "    glog:                  0.3.9-h3408eea_2                   tensorcomp\n",
            "    halide:                0.1.0-h9df8326_2                   tensorcomp\n",
            "    isl-tc:                0.1.0-h9c8d533_2                   tensorcomp\n",
            "    llvm-tapir50:          0.1.0-h186cc49_2                   tensorcomp\n",
            "    protobuf:              3.4.1-h21cfbc1_2                   tensorcomp\n",
            "    pytorch:               0.3.1-py36_cuda8.0.61_cudnn7.1.2_3 pytorch   \n",
            "    tensor_comprehensions: 0.1.1-hc1584b5_3                   tensorcomp\n",
            "    unzip:                 6.0-h611a1e1_0                               \n",
            "\n",
            "The following packages will be UPDATED:\n",
            "\n",
            "    bzip2:                 1.0.6-h9a117a8_4                              --> 1.0.8-h7b6447c_0       \n",
            "    ca-certificates:       2017.08.26-h1d4fec5_0                         --> 2020.1.1-0             \n",
            "    certifi:               2018.1.18-py36_0                              --> 2020.4.5.1-py36_0      \n",
            "    cffi:                  1.11.4-py36h9745a5d_0                         --> 1.14.0-py36h2e261b9_0  \n",
            "    libcurl:               7.58.0-h1ad7b7a_0                             --> 7.61.1-heec0ca6_0      \n",
            "    libedit:               3.1-heed3624_0                                --> 3.1.20181209-hc058e9b_0\n",
            "    libgcc-ng:             7.2.0-h7cc24e2_2                              --> 9.1.0-hdf63c60_0       \n",
            "    ncurses:               6.0-h9df7e31_2                                --> 6.1-hf484d3e_0         \n",
            "    numpy:                 1.14.0-py36h3dfced4_1                         --> 1.14.2-py36hdbf6ddf_0  \n",
            "    openssl:               1.0.2n-hb7f436b_0                             --> 1.0.2u-h7b6447c_0      \n",
            "    pip:                   9.0.1-py36h6c6f9ce_4                          --> 20.0.2-py36_1          \n",
            "    pycparser:             2.18-py36hf9f622e_1                           --> 2.20-py_0              \n",
            "    python:                3.6.4-hc3d631a_1                              --> 3.6.6-hc3d631a_0       \n",
            "    pyyaml:                3.12-py36hafb9ca4_1                           --> 5.3.1-py36h7b6447c_0   \n",
            "    readline:              7.0-ha6073c6_4                                --> 7.0-h7b6447c_5         \n",
            "    setuptools:            38.4.0-py36_0                                 --> 46.1.3-py36_0          \n",
            "    six:                   1.11.0-py36h372c433_1                         --> 1.14.0-py36_0          \n",
            "    sqlite:                3.22.0-h1bed415_0                             --> 3.31.1-h7b6447c_0      \n",
            "    tk:                    8.6.7-hc745277_3                              --> 8.6.8-hbc83047_0       \n",
            "    wheel:                 0.30.0-py36hfd4bba0_1                         --> 0.34.2-py36_0          \n",
            "    xz:                    5.2.3-h55aa19d_2                              --> 5.2.5-h7b6447c_0       \n",
            "    zlib:                  1.2.11-ha838bed_2                             --> 1.2.11-h7b6447c_3      \n",
            "\n",
            "Preparing transaction: ...working... done\n",
            "Verifying transaction: ...working... done\n",
            "Executing transaction: ...working... done\n",
            "\n",
            "SpecNotFound: Can't process without a name\n",
            "\n",
            "\n",
            "CommandNotFoundError: Your shell has not been properly configured to use 'conda activate'.\n",
            "If your shell is Bash or a Bourne variant, enable conda for the current user with\n",
            "\n",
            "    $ echo \". /usr/local/etc/profile.d/conda.sh\" >> ~/.bashrc\n",
            "\n",
            "or, for all users, enable conda with\n",
            "\n",
            "    $ sudo ln -s /usr/local/etc/profile.d/conda.sh /etc/profile.d/conda.sh\n",
            "\n",
            "The options above will permanently enable the 'conda' command, but they do NOT\n",
            "put conda's base (root) environment on PATH.  To do so, run\n",
            "\n",
            "    $ conda activate\n",
            "\n",
            "in your terminal, or to put the base environment on PATH permanently, run\n",
            "\n",
            "    $ echo \"conda activate\" >> ~/.bashrc\n",
            "\n",
            "Previous to conda 4.4, the recommended way to activate conda was to modify PATH in\n",
            "your ~/.bashrc file.  You should manually remove the line that looks like\n",
            "\n",
            "    export PATH=\"/usr/local/bin:$PATH\"\n",
            "\n",
            "^^^ The above line should NO LONGER be in your ~/.bashrc file! ^^^\n",
            "\n",
            "\n",
            "python: can't open file 'setup.py': [Errno 2] No such file or directory\n"
          ],
          "name": "stdout"
        }
      ]
    },
    {
      "cell_type": "code",
      "metadata": {
        "id": "RC4aa9Yhxl16",
        "colab_type": "code",
        "outputId": "df8918b5-6a1e-4271-f2a6-d40bb1abeffc",
        "colab": {
          "base_uri": "https://localhost:8080/",
          "height": 85
        }
      },
      "source": [
        "! sudo /usr/local/etc/profile.d/conda.sh install -q -y --prefix /usr/local -c pytorch -c tensorcomp tensor_comprehensions\n",
        "! sudo /usr/local/etc/profile.d/conda.sh env create -f environment.yml\n",
        "! sudo /usr/local/etc/profile.d/conda.sh activate flow\n",
        "! python setup.py develop"
      ],
      "execution_count": 0,
      "outputs": [
        {
          "output_type": "stream",
          "text": [
            "sudo: /usr/local/etc/profile.d/conda.sh: command not found\n",
            "sudo: /usr/local/etc/profile.d/conda.sh: command not found\n",
            "sudo: /usr/local/etc/profile.d/conda.sh: command not found\n",
            "python: can't open file 'setup.py': [Errno 2] No such file or directory\n"
          ],
          "name": "stdout"
        }
      ]
    },
    {
      "cell_type": "code",
      "metadata": {
        "id": "55_1OGZz1FN3",
        "colab_type": "code",
        "colab": {}
      },
      "source": [
        "! sudo ln -s /usr/local/etc/profile.d/conda.sh /etc/profile.d/conda.sh\n"
      ],
      "execution_count": 0,
      "outputs": []
    },
    {
      "cell_type": "code",
      "metadata": {
        "id": "k2RxOH8G1KnZ",
        "colab_type": "code",
        "outputId": "31ed1dfd-3b9f-4577-e335-5d6e99335d5a",
        "colab": {
          "base_uri": "https://localhost:8080/",
          "height": 476
        }
      },
      "source": [
        "! conda activate"
      ],
      "execution_count": 0,
      "outputs": [
        {
          "output_type": "stream",
          "text": [
            "\n",
            "CommandNotFoundError: Your shell has not been properly configured to use 'conda activate'.\n",
            "If your shell is Bash or a Bourne variant, enable conda for the current user with\n",
            "\n",
            "    $ echo \". /usr/local/etc/profile.d/conda.sh\" >> ~/.bashrc\n",
            "\n",
            "or, for all users, enable conda with\n",
            "\n",
            "    $ sudo ln -s /usr/local/etc/profile.d/conda.sh /etc/profile.d/conda.sh\n",
            "\n",
            "The options above will permanently enable the 'conda' command, but they do NOT\n",
            "put conda's base (root) environment on PATH.  To do so, run\n",
            "\n",
            "    $ conda activate\n",
            "\n",
            "in your terminal, or to put the base environment on PATH permanently, run\n",
            "\n",
            "    $ echo \"conda activate\" >> ~/.bashrc\n",
            "\n",
            "Previous to conda 4.4, the recommended way to activate conda was to modify PATH in\n",
            "your ~/.bashrc file.  You should manually remove the line that looks like\n",
            "\n",
            "    export PATH=\"/usr/local/bin:$PATH\"\n",
            "\n",
            "^^^ The above line should NO LONGER be in your ~/.bashrc file! ^^^\n",
            "\n",
            "\n"
          ],
          "name": "stdout"
        }
      ]
    },
    {
      "cell_type": "code",
      "metadata": {
        "id": "Thxao7lK1Z4f",
        "colab_type": "code",
        "outputId": "5d789cdd-d167-47e4-faf7-9f46fb11ca3e",
        "colab": {
          "base_uri": "https://localhost:8080/",
          "height": 1000
        }
      },
      "source": [
        "!cat ~/.bashrc"
      ],
      "execution_count": 0,
      "outputs": [
        {
          "output_type": "stream",
          "text": [
            "# ~/.bashrc: executed by bash(1) for non-login shells.\n",
            "# see /usr/share/doc/bash/examples/startup-files (in the package bash-doc)\n",
            "# for examples\n",
            "\n",
            "# If not running interactively, don't do anything\n",
            "[ -z \"$PS1\" ] && return\n",
            "\n",
            "# don't put duplicate lines in the history. See bash(1) for more options\n",
            "# ... or force ignoredups and ignorespace\n",
            "HISTCONTROL=ignoredups:ignorespace\n",
            "\n",
            "# append to the history file, don't overwrite it\n",
            "shopt -s histappend\n",
            "\n",
            "# for setting history length see HISTSIZE and HISTFILESIZE in bash(1)\n",
            "HISTSIZE=1000\n",
            "HISTFILESIZE=2000\n",
            "\n",
            "# check the window size after each command and, if necessary,\n",
            "# update the values of LINES and COLUMNS.\n",
            "shopt -s checkwinsize\n",
            "\n",
            "# make less more friendly for non-text input files, see lesspipe(1)\n",
            "[ -x /usr/bin/lesspipe ] && eval \"$(SHELL=/bin/sh lesspipe)\"\n",
            "\n",
            "# set variable identifying the chroot you work in (used in the prompt below)\n",
            "if [ -z \"$debian_chroot\" ] && [ -r /etc/debian_chroot ]; then\n",
            "    debian_chroot=$(cat /etc/debian_chroot)\n",
            "fi\n",
            "\n",
            "# set a fancy prompt (non-color, unless we know we \"want\" color)\n",
            "case \"$TERM\" in\n",
            "    xterm-color) color_prompt=yes;;\n",
            "esac\n",
            "\n",
            "# uncomment for a colored prompt, if the terminal has the capability; turned\n",
            "# off by default to not distract the user: the focus in a terminal window\n",
            "# should be on the output of commands, not on the prompt\n",
            "#force_color_prompt=yes\n",
            "\n",
            "if [ -n \"$force_color_prompt\" ]; then\n",
            "    if [ -x /usr/bin/tput ] && tput setaf 1 >&/dev/null; then\n",
            "\t# We have color support; assume it's compliant with Ecma-48\n",
            "\t# (ISO/IEC-6429). (Lack of such support is extremely rare, and such\n",
            "\t# a case would tend to support setf rather than setaf.)\n",
            "\tcolor_prompt=yes\n",
            "    else\n",
            "\tcolor_prompt=\n",
            "    fi\n",
            "fi\n",
            "\n",
            "if [ \"$color_prompt\" = yes ]; then\n",
            "    PS1='${debian_chroot:+($debian_chroot)}\\[\\033[01;32m\\]\\u@\\h\\[\\033[00m\\]:\\[\\033[01;34m\\]\\w\\[\\033[00m\\]\\$ '\n",
            "else\n",
            "    PS1='${debian_chroot:+($debian_chroot)}\\u@\\h:\\w\\$ '\n",
            "fi\n",
            "unset color_prompt force_color_prompt\n",
            "\n",
            "# If this is an xterm set the title to user@host:dir\n",
            "case \"$TERM\" in\n",
            "xterm*|rxvt*)\n",
            "    PS1=\"\\[\\e]0;${debian_chroot:+($debian_chroot)}\\u@\\h: \\w\\a\\]$PS1\"\n",
            "    ;;\n",
            "*)\n",
            "    ;;\n",
            "esac\n",
            "\n",
            "# enable color support of ls and also add handy aliases\n",
            "if [ -x /usr/bin/dircolors ]; then\n",
            "    test -r ~/.dircolors && eval \"$(dircolors -b ~/.dircolors)\" || eval \"$(dircolors -b)\"\n",
            "    alias ls='ls --color=auto'\n",
            "    #alias dir='dir --color=auto'\n",
            "    #alias vdir='vdir --color=auto'\n",
            "\n",
            "    alias grep='grep --color=auto'\n",
            "    alias fgrep='fgrep --color=auto'\n",
            "    alias egrep='egrep --color=auto'\n",
            "fi\n",
            "\n",
            "# some more ls aliases\n",
            "alias ll='ls -alF'\n",
            "alias la='ls -A'\n",
            "alias l='ls -CF'\n",
            "\n",
            "# Alias definitions.\n",
            "# You may want to put all your additions into a separate file like\n",
            "# ~/.bash_aliases, instead of adding them here directly.\n",
            "# See /usr/share/doc/bash-doc/examples in the bash-doc package.\n",
            "\n",
            "if [ -f ~/.bash_aliases ]; then\n",
            "    . ~/.bash_aliases\n",
            "fi\n",
            "\n",
            "# enable programmable completion features (you don't need to enable\n",
            "# this, if it's already enabled in /etc/bash.bashrc and /etc/profile\n",
            "# sources /etc/bash.bashrc).\n",
            "#if [ -f /etc/bash_completion ] && ! shopt -oq posix; then\n",
            "#    . /etc/bash_completion\n",
            "#fi\n"
          ],
          "name": "stdout"
        }
      ]
    },
    {
      "cell_type": "code",
      "metadata": {
        "id": "Uo6eXc2x1guV",
        "colab_type": "code",
        "colab": {}
      },
      "source": [
        "! echo \"conda activate\" >> ~/.bashrc\n",
        "\n",
        "! export PATH=\"/usr/local/bin:$PATH\""
      ],
      "execution_count": 0,
      "outputs": []
    },
    {
      "cell_type": "code",
      "metadata": {
        "id": "9N6xljie1mzq",
        "colab_type": "code",
        "outputId": "04a301c7-284d-4ae7-8542-89e3ef60d3b4",
        "colab": {
          "base_uri": "https://localhost:8080/",
          "height": 1000
        }
      },
      "source": [
        "! conda"
      ],
      "execution_count": 0,
      "outputs": [
        {
          "output_type": "stream",
          "text": [
            "usage: conda [-h] [-V] command ...\n",
            "\n",
            "conda is a tool for managing and deploying applications, environments and packages.\n",
            "\n",
            "Options:\n",
            "\n",
            "positional arguments:\n",
            "  command\n",
            "    clean        Remove unused packages and caches.\n",
            "    config       Modify configuration values in .condarc. This is modeled\n",
            "                 after the git config command. Writes to the user .condarc\n",
            "                 file (/root/.condarc) by default.\n",
            "    create       Create a new conda environment from a list of specified\n",
            "                 packages.\n",
            "    help         Displays a list of available conda commands and their help\n",
            "                 strings.\n",
            "    info         Display information about current conda install.\n",
            "    install      Installs a list of packages into a specified conda\n",
            "                 environment.\n",
            "    list         List linked packages in a conda environment.\n",
            "    package      Low-level conda package utility. (EXPERIMENTAL)\n",
            "    remove       Remove a list of packages from a specified conda environment.\n",
            "    uninstall    Alias for conda remove. See conda remove --help.\n",
            "    search       Search for packages and display associated information. The\n",
            "                 input is a MatchSpec, a query language for conda packages.\n",
            "                 See examples below.\n",
            "    update       Updates conda packages to the latest compatible version. This\n",
            "                 command accepts a list of package names and updates them to\n",
            "                 the latest versions that are compatible with all other\n",
            "                 packages in the environment. Conda attempts to install the\n",
            "                 newest versions of the requested packages. To accomplish\n",
            "                 this, it may update some packages that are already installed,\n",
            "                 or install additional packages. To prevent existing packages\n",
            "                 from updating, use the --no-update-deps option. This may\n",
            "                 force conda to install older versions of the requested\n",
            "                 packages, and it does not prevent additional dependency\n",
            "                 packages from being installed. If you wish to skip dependency\n",
            "                 checking altogether, use the '--force' option. This may\n",
            "                 result in an environment with incompatible packages, so this\n",
            "                 option must be used with great caution.\n",
            "    upgrade      Alias for conda update. See conda update --help.\n",
            "\n",
            "optional arguments:\n",
            "  -h, --help     Show this help message and exit.\n",
            "  -V, --version  Show the conda version number and exit.\n",
            "\n",
            "conda commands available from other packages:\n",
            "  build\n",
            "  convert\n",
            "  develop\n",
            "  env\n",
            "  index\n",
            "  inspect\n",
            "  metapackage\n",
            "  render\n",
            "  server\n",
            "  skeleton\n",
            "  verify\n"
          ],
          "name": "stdout"
        }
      ]
    },
    {
      "cell_type": "code",
      "metadata": {
        "id": "Fj1T3AHA12Xc",
        "colab_type": "code",
        "outputId": "726c8616-040d-45ca-cf64-b8b3d043c3f8",
        "colab": {
          "base_uri": "https://localhost:8080/",
          "height": 136
        }
      },
      "source": [
        "! git clone https://github.com/flow-project/flow.git\n",
        "! cd flow"
      ],
      "execution_count": 0,
      "outputs": [
        {
          "output_type": "stream",
          "text": [
            "Cloning into 'flow'...\n",
            "remote: Enumerating objects: 487, done.\u001b[K\n",
            "remote: Counting objects: 100% (487/487), done.\u001b[K\n",
            "remote: Compressing objects: 100% (320/320), done.\u001b[K\n",
            "remote: Total 41658 (delta 307), reused 295 (delta 164), pack-reused 41171\u001b[K\n",
            "Receiving objects: 100% (41658/41658), 273.47 MiB | 20.27 MiB/s, done.\n",
            "Resolving deltas: 100% (31984/31984), done.\n"
          ],
          "name": "stdout"
        }
      ]
    },
    {
      "cell_type": "code",
      "metadata": {
        "id": "zP32Ndm81-ic",
        "colab_type": "code",
        "outputId": "c6fb227f-e541-4ca6-f899-8f69e8cbc10c",
        "colab": {
          "base_uri": "https://localhost:8080/",
          "height": 34
        }
      },
      "source": [
        "!pwd"
      ],
      "execution_count": 0,
      "outputs": [
        {
          "output_type": "stream",
          "text": [
            "/content\n"
          ],
          "name": "stdout"
        }
      ]
    },
    {
      "cell_type": "code",
      "metadata": {
        "id": "6rMblIHn2Sbd",
        "colab_type": "code",
        "outputId": "945961c3-a605-493b-9d54-90a422429063",
        "colab": {
          "base_uri": "https://localhost:8080/",
          "height": 34
        }
      },
      "source": [
        "! cd flow && pwd"
      ],
      "execution_count": 0,
      "outputs": [
        {
          "output_type": "stream",
          "text": [
            "/content/flow\n"
          ],
          "name": "stdout"
        }
      ]
    },
    {
      "cell_type": "code",
      "metadata": {
        "id": "0hw9uIVF2Wa8",
        "colab_type": "code",
        "outputId": "9e526547-eb03-4b9f-f6ca-8d448fad0b2b",
        "colab": {
          "base_uri": "https://localhost:8080/",
          "height": 51
        }
      },
      "source": [
        "! pwd && ls"
      ],
      "execution_count": 0,
      "outputs": [
        {
          "output_type": "stream",
          "text": [
            "/content\n",
            "Anaconda3-5.1.0-Linux-x86_64.sh  flow  sample_data\n"
          ],
          "name": "stdout"
        }
      ]
    },
    {
      "cell_type": "code",
      "metadata": {
        "id": "YgKHb4pQ2aBs",
        "colab_type": "code",
        "outputId": "460fc06b-7b4d-4809-e680-4483113fccd9",
        "colab": {
          "base_uri": "https://localhost:8080/",
          "height": 68
        }
      },
      "source": [
        "! cd flow && ls"
      ],
      "execution_count": 0,
      "outputs": [
        {
          "output_type": "stream",
          "text": [
            "CODE_OF_CONDUCT.md  docs\t     flow\t requirements.txt  setup.py\n",
            "CODEOWNERS\t    environment.yml  LICENSE.md  scripts\t   tests\n",
            "Dockerfile\t    examples\t     README.md\t setup.cfg\t   tutorials\n"
          ],
          "name": "stdout"
        }
      ]
    },
    {
      "cell_type": "code",
      "metadata": {
        "id": "t65HFSay2gzT",
        "colab_type": "code",
        "outputId": "d6cfd5b8-b7a6-4179-ae46-95e06709ec92",
        "colab": {
          "base_uri": "https://localhost:8080/",
          "height": 68
        }
      },
      "source": [
        "! echo \"conda activate\" >> ~/.bashrc\n",
        "! export PATH=\"/usr/local/bin:$PATH\"\n",
        "! cd flow\n",
        "! conda-env create -f environment.yml\n"
      ],
      "execution_count": 0,
      "outputs": [
        {
          "output_type": "stream",
          "text": [
            "\n",
            "SpecNotFound: Can't process without a name\n",
            "\n"
          ],
          "name": "stdout"
        }
      ]
    },
    {
      "cell_type": "code",
      "metadata": {
        "id": "lBtCMB92HQCN",
        "colab_type": "code",
        "outputId": "a6080229-2399-4bad-9fa8-bcda6f7230c2",
        "colab": {
          "base_uri": "https://localhost:8080/",
          "height": 255
        }
      },
      "source": [
        "import random, string, getpass\n",
        "\n",
        "password = ''.join(random.choice(string.ascii_letters + string.digits) for i in range(20))\n",
        "alias = ''.join(random.choice(string.ascii_letters + string.digits) for i in range(8))\n",
        "! echo root:$password | chpasswd\n",
        "\n",
        "! apt-get install -qq -o=Dpkg::Use-Pty=0 openssh-server pwgen > /dev/null\n",
        "! mkdir -p /var/run/sshd\n",
        "! echo \"PermitRootLogin yes\" >> /etc/ssh/sshd_config && echo \"PasswordAuthentication yes\" >> /etc/ssh/sshd_config\n",
        "! echo \"LD_LIBRARY_PATH=/usr/lib64-nvidia\" >> /root/.bashrc && echo \"export LD_LIBRARY_PATH\" >> /root/.bashrc\n",
        "get_ipython().system_raw('/usr/sbin/sshd -D &')\n",
        "\n",
        "print('sshpass -p {} ssh -o \"StrictHostKeyChecking no\" -J serveo.net root@{}'.format(password, alias))\n",
        "! ssh -o \"StrictHostKeyChecking no\" -R $alias:22:localhost:22 serveo.net"
      ],
      "execution_count": 0,
      "outputs": [
        {
          "output_type": "stream",
          "text": [
            "\n",
            "Creating config file /etc/ssh/sshd_config with new version\n",
            "Creating SSH2 RSA key; this may take some time ...\n",
            "2048 SHA256:CK8eSj8bRoHlktCNUq06ZAIeuPhz+vl/C494jQFMKyQ root@72130d0e81b6 (RSA)\n",
            "Creating SSH2 ECDSA key; this may take some time ...\n",
            "256 SHA256:DdkbeTQQ+7+RsVN8sR0R6N9UhAAxAQCzNRKRP6FvNfg root@72130d0e81b6 (ECDSA)\n",
            "Creating SSH2 ED25519 key; this may take some time ...\n",
            "256 SHA256:TyK11ltgm7R3ekzuSQEBlU0jlt6EY+wWKcbklg9jSFw root@72130d0e81b6 (ED25519)\n",
            "Created symlink /etc/systemd/system/sshd.service → /lib/systemd/system/ssh.service.\n",
            "Created symlink /etc/systemd/system/multi-user.target.wants/ssh.service → /lib/systemd/system/ssh.service.\n",
            "invoke-rc.d: could not determine current runlevel\n",
            "invoke-rc.d: policy-rc.d denied execution of start.\n",
            "sshpass -p 20pAAO7GAg38imWkiRBy ssh -o \"StrictHostKeyChecking no\" -J serveo.net root@jFws6nVY\n",
            "ssh: connect to host serveo.net port 22: Connection timed out\n"
          ],
          "name": "stdout"
        }
      ]
    },
    {
      "cell_type": "code",
      "metadata": {
        "id": "R-pz3VP1J_bB",
        "colab_type": "code",
        "outputId": "c3571e1a-0c3e-43d5-9b3c-d7f9471d1982",
        "colab": {
          "base_uri": "https://localhost:8080/",
          "height": 374
        }
      },
      "source": [
        "\n",
        "!nvidia-smi\n",
        "!/usr/local/cuda/bin/nvcc --version"
      ],
      "execution_count": 0,
      "outputs": [
        {
          "output_type": "stream",
          "text": [
            "Mon May  4 14:47:31 2020       \n",
            "+-----------------------------------------------------------------------------+\n",
            "| NVIDIA-SMI 440.64.00    Driver Version: 418.67       CUDA Version: 10.1     |\n",
            "|-------------------------------+----------------------+----------------------+\n",
            "| GPU  Name        Persistence-M| Bus-Id        Disp.A | Volatile Uncorr. ECC |\n",
            "| Fan  Temp  Perf  Pwr:Usage/Cap|         Memory-Usage | GPU-Util  Compute M. |\n",
            "|===============================+======================+======================|\n",
            "|   0  Tesla K80           Off  | 00000000:00:04.0 Off |                    0 |\n",
            "| N/A   34C    P8    27W / 149W |      0MiB / 11441MiB |      0%      Default |\n",
            "+-------------------------------+----------------------+----------------------+\n",
            "                                                                               \n",
            "+-----------------------------------------------------------------------------+\n",
            "| Processes:                                                       GPU Memory |\n",
            "|  GPU       PID   Type   Process name                             Usage      |\n",
            "|=============================================================================|\n",
            "|  No running processes found                                                 |\n",
            "+-----------------------------------------------------------------------------+\n",
            "nvcc: NVIDIA (R) Cuda compiler driver\n",
            "Copyright (c) 2005-2019 NVIDIA Corporation\n",
            "Built on Sun_Jul_28_19:07:16_PDT_2019\n",
            "Cuda compilation tools, release 10.1, V10.1.243\n"
          ],
          "name": "stdout"
        }
      ]
    },
    {
      "cell_type": "code",
      "metadata": {
        "id": "ZbRRIDXlKF3r",
        "colab_type": "code",
        "outputId": "6ac08e8e-916d-4d1d-fc3d-79d887b67168",
        "colab": {
          "base_uri": "https://localhost:8080/",
          "height": 122
        }
      },
      "source": [
        "from google.colab import drive\n",
        "drive.mount('/content/gdrive/')"
      ],
      "execution_count": 0,
      "outputs": [
        {
          "output_type": "stream",
          "text": [
            "Go to this URL in a browser: https://accounts.google.com/o/oauth2/auth?client_id=947318989803-6bn6qk8qdgf4n4g3pfee6491hc0brc4i.apps.googleusercontent.com&redirect_uri=urn%3aietf%3awg%3aoauth%3a2.0%3aoob&response_type=code&scope=email%20https%3a%2f%2fwww.googleapis.com%2fauth%2fdocs.test%20https%3a%2f%2fwww.googleapis.com%2fauth%2fdrive%20https%3a%2f%2fwww.googleapis.com%2fauth%2fdrive.photos.readonly%20https%3a%2f%2fwww.googleapis.com%2fauth%2fpeopleapi.readonly\n",
            "\n",
            "Enter your authorization code:\n",
            "··········\n",
            "Mounted at /content/gdrive/\n"
          ],
          "name": "stdout"
        }
      ]
    },
    {
      "cell_type": "code",
      "metadata": {
        "id": "XObZnGyjKYcv",
        "colab_type": "code",
        "colab": {}
      },
      "source": [
        "! wget -q -c -nc https://bin.equinox.io/c/4VmDzA7iaHb/ngrok-stable-linux-amd64.zip\n",
        "! unzip -qq -n ngrok-stable-linux-amd64.zip"
      ],
      "execution_count": 0,
      "outputs": []
    },
    {
      "cell_type": "code",
      "metadata": {
        "id": "ZeVxl182KdbN",
        "colab_type": "code",
        "outputId": "c841d1cb-1911-4fb5-aa20-31b5d95bf797",
        "colab": {
          "base_uri": "https://localhost:8080/",
          "height": 51
        }
      },
      "source": [
        "print(\"Get your authtoken from https://dashboard.ngrok.com/auth\")\n",
        "import getpass\n",
        "authtoken = getpass.getpass()"
      ],
      "execution_count": 0,
      "outputs": [
        {
          "output_type": "stream",
          "text": [
            "Get your authtoken from https://dashboard.ngrok.com/auth\n",
            "··········\n"
          ],
          "name": "stdout"
        }
      ]
    },
    {
      "cell_type": "code",
      "metadata": {
        "id": "_rMYtd_PKkUR",
        "colab_type": "code",
        "colab": {}
      },
      "source": [
        "get_ipython().system_raw('./ngrok authtoken $authtoken && ./ngrok tcp 22 &')\n"
      ],
      "execution_count": 0,
      "outputs": []
    },
    {
      "cell_type": "code",
      "metadata": {
        "id": "HNmE9a6RLhiE",
        "colab_type": "code",
        "outputId": "b1d9db44-8c3d-4dda-9acb-e535ef5c42a6",
        "colab": {
          "base_uri": "https://localhost:8080/",
          "height": 85
        }
      },
      "source": [
        "#Generate root password\n",
        "import random, string\n",
        "password = ''.join(random.choice(string.ascii_letters + string.digits) for i in range(20))\n",
        "\n",
        "#Download ngrok\n",
        "! wget -q -c -nc https://bin.equinox.io/c/4VmDzA7iaHb/ngrok-stable-linux-amd64.zip\n",
        "! unzip -qq -n ngrok-stable-linux-amd64.zip\n",
        "#Setup sshd\n",
        "! apt-get install -qq -o=Dpkg::Use-Pty=0 openssh-server pwgen > /dev/null\n",
        "#Set root password\n",
        "! echo root:$password | chpasswd\n",
        "! mkdir -p /var/run/sshd\n",
        "! echo \"PermitRootLogin yes\" >> /etc/ssh/sshd_config\n",
        "! echo \"PasswordAuthentication yes\" >> /etc/ssh/sshd_config\n",
        "! echo \"LD_LIBRARY_PATH=/usr/lib64-nvidia\" >> /root/.bashrc\n",
        "! echo \"export LD_LIBRARY_PATH\" >> /root/.bashrc\n",
        "\n",
        "#Run sshd\n",
        "get_ipython().system_raw('/usr/sbin/sshd -D &')\n",
        "\n",
        "#Ask token\n",
        "print(\"Copy authtoken from https://dashboard.ngrok.com/auth\")\n",
        "import getpass\n",
        "authtoken = getpass.getpass()\n",
        "\n",
        "#Create tunnel\n",
        "get_ipython().system_raw('./ngrok authtoken $authtoken && ./ngrok tcp 22 &')\n",
        "#Print root password\n",
        "print(\"Root password: {}\".format(password))\n",
        "#Get public address\n",
        "! curl -s http://localhost:4040/api/tunnels | python3 -c \\\n",
        "    \"import sys, json; print(json.load(sys.stdin)['tunnels'][0]['public_url'])\""
      ],
      "execution_count": 0,
      "outputs": [
        {
          "output_type": "stream",
          "text": [
            "Copy authtoken from https://dashboard.ngrok.com/auth\n",
            "··········\n",
            "Root password: 4qQlJ5H6jNgSkEKQJqE9\n",
            "tcp://0.tcp.ngrok.io:19223\n"
          ],
          "name": "stdout"
        }
      ]
    },
    {
      "cell_type": "code",
      "metadata": {
        "id": "4t2N7vGQMC9n",
        "colab_type": "code",
        "outputId": "2d83523a-3566-4778-c5c0-f7933362b410",
        "colab": {
          "base_uri": "https://localhost:8080/",
          "height": 130
        }
      },
      "source": [
        "./ngrok authtoken 1bRnAmNxzkFhWdKH9KgIEEZSZmd_bMJuntuGbxy9zKFwtUy7"
      ],
      "execution_count": 0,
      "outputs": [
        {
          "output_type": "error",
          "ename": "SyntaxError",
          "evalue": "ignored",
          "traceback": [
            "\u001b[0;36m  File \u001b[0;32m\"<ipython-input-30-7ed4b2808cef>\"\u001b[0;36m, line \u001b[0;32m1\u001b[0m\n\u001b[0;31m    ./ngrok authtoken 1bRnAmNxzkFhWdKH9KgIEEZSZmd_bMJuntuGbxy9zKFwtUy7\u001b[0m\n\u001b[0m    ^\u001b[0m\n\u001b[0;31mSyntaxError\u001b[0m\u001b[0;31m:\u001b[0m invalid syntax\n"
          ]
        }
      ]
    }
  ]
}